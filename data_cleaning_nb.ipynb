{
 "cells": [
  {
   "cell_type": "code",
   "execution_count": 1,
   "metadata": {},
   "outputs": [
    {
     "name": "stdout",
     "output_type": "stream",
     "text": [
      "Collecting ucimlrepo\n",
      "  Downloading ucimlrepo-0.0.7-py3-none-any.whl.metadata (5.5 kB)\n",
      "Requirement already satisfied: pandas>=1.0.0 in c:\\users\\bfran\\anaconda3\\lib\\site-packages (from ucimlrepo) (2.1.4)\n",
      "Requirement already satisfied: certifi>=2020.12.5 in c:\\users\\bfran\\anaconda3\\lib\\site-packages (from ucimlrepo) (2024.2.2)\n",
      "Requirement already satisfied: numpy<2,>=1.23.2 in c:\\users\\bfran\\anaconda3\\lib\\site-packages (from pandas>=1.0.0->ucimlrepo) (1.26.4)\n",
      "Requirement already satisfied: python-dateutil>=2.8.2 in c:\\users\\bfran\\anaconda3\\lib\\site-packages (from pandas>=1.0.0->ucimlrepo) (2.8.2)\n",
      "Requirement already satisfied: pytz>=2020.1 in c:\\users\\bfran\\anaconda3\\lib\\site-packages (from pandas>=1.0.0->ucimlrepo) (2023.3.post1)\n",
      "Requirement already satisfied: tzdata>=2022.1 in c:\\users\\bfran\\anaconda3\\lib\\site-packages (from pandas>=1.0.0->ucimlrepo) (2023.3)\n",
      "Requirement already satisfied: six>=1.5 in c:\\users\\bfran\\anaconda3\\lib\\site-packages (from python-dateutil>=2.8.2->pandas>=1.0.0->ucimlrepo) (1.16.0)\n",
      "Downloading ucimlrepo-0.0.7-py3-none-any.whl (8.0 kB)\n",
      "Installing collected packages: ucimlrepo\n",
      "Successfully installed ucimlrepo-0.0.7\n"
     ]
    }
   ],
   "source": [
    "# Install UC Irvine Machine Learning Repository\n",
    "!pip install ucimlrepo"
   ]
  },
  {
   "cell_type": "code",
   "execution_count": 2,
   "metadata": {},
   "outputs": [
    {
     "name": "stdout",
     "output_type": "stream",
     "text": [
      "{'uci_id': 849, 'name': 'Power Consumption of Tetouan City', 'repository_url': 'https://archive.ics.uci.edu/dataset/849/power+consumption+of+tetouan+city', 'data_url': 'https://archive.ics.uci.edu/static/public/849/data.csv', 'abstract': 'This dataset is related to power consumption of three different distribution networks of Tetouan city which is located in north Morocco.', 'area': 'Social Science', 'tasks': ['Regression'], 'characteristics': ['Multivariate', 'Time-Series'], 'num_instances': 52417, 'num_features': 6, 'feature_types': ['Real', 'Integer'], 'demographics': [], 'target_col': ['Zone 1 Power Consumption', 'Zone 2  Power Consumption', 'Zone 3  Power Consumption'], 'index_col': None, 'has_missing_values': 'no', 'missing_values_symbol': None, 'year_of_dataset_creation': 2018, 'last_updated': 'Fri Mar 08 2024', 'dataset_doi': '10.24432/C5B034', 'creators': ['Abdulwahed Salam', 'Abdelaaziz El Hibaoui'], 'intro_paper': {'title': 'Comparison of Machine Learning Algorithms for the Power Consumption Prediction : - Case Study of Tetouan city –', 'authors': 'A. Salam, A. E. Hibaoui', 'published_in': 'International Renewable and Sustainable Energy Conference', 'year': 2018, 'url': 'https://www.semanticscholar.org/paper/177512e766fe5d8624a1b3e93abd11082ac37b3f', 'doi': None}, 'additional_info': {'summary': None, 'purpose': None, 'funded_by': None, 'instances_represent': None, 'recommended_data_splits': None, 'sensitive_data': None, 'preprocessing_description': None, 'variable_info': None, 'citation': 'Salam, A., & El Hibaoui, A. (2018, December). Comparison of Machine Learning Algorithms for the Power Consumption Prediction:-Case Study of Tetouan city“. In 2018 6th International Renewable and Sustainable Energy Conference (IRSEC) (pp. 1-5). IEEE.'}}\n",
      "                        name     role        type demographic  \\\n",
      "0                   DateTime  Feature        Date        None   \n",
      "1                Temperature  Feature  Continuous        None   \n",
      "2                   Humidity  Feature  Continuous        None   \n",
      "3                 Wind Speed  Feature  Continuous        None   \n",
      "4      general diffuse flows  Feature  Continuous        None   \n",
      "5              diffuse flows  Feature  Continuous        None   \n",
      "6   Zone 1 Power Consumption   Target  Continuous        None   \n",
      "7  Zone 2  Power Consumption   Target  Continuous        None   \n",
      "8  Zone 3  Power Consumption   Target  Continuous        None   \n",
      "\n",
      "                                   description units missing_values  \n",
      "0                             Each ten minutes  None             no  \n",
      "1          Weather Temperature of Tetouan city  None             no  \n",
      "2             Weather Humidity of Tetouan city  None             no  \n",
      "3                   Wind speed of Tetouan city  None             no  \n",
      "4                        general diffuse flows  None             no  \n",
      "5                                diffuse flows  None             no  \n",
      "6  power consumption of zone 1 of Tetouan city  None             no  \n",
      "7  power consumption of zone 2 of Tetouan city  None             no  \n",
      "8  power consumption of zone 3 of Tetouan city  None             no  \n"
     ]
    }
   ],
   "source": [
    "# import fetch_repo function from ucimlrepo\n",
    "from ucimlrepo import fetch_ucirepo \n",
    "  \n",
    "# fetch dataset \n",
    "tetouan = fetch_ucirepo(id=849) \n",
    "  \n",
    "# data (as pandas dataframes) \n",
    "X = tetouan.data.features \n",
    "y = tetouan.data.targets \n",
    "  \n",
    "# metadata \n",
    "print(tetouan.metadata) \n",
    "  \n",
    "# variable information \n",
    "print(tetouan.variables) \n"
   ]
  },
  {
   "cell_type": "code",
   "execution_count": null,
   "metadata": {},
   "outputs": [],
   "source": []
  }
 ],
 "metadata": {
  "kernelspec": {
   "display_name": "base",
   "language": "python",
   "name": "python3"
  },
  "language_info": {
   "codemirror_mode": {
    "name": "ipython",
    "version": 3
   },
   "file_extension": ".py",
   "mimetype": "text/x-python",
   "name": "python",
   "nbconvert_exporter": "python",
   "pygments_lexer": "ipython3",
   "version": "3.11.7"
  }
 },
 "nbformat": 4,
 "nbformat_minor": 2
}
