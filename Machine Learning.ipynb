{
 "cells": [
  {
   "cell_type": "code",
   "execution_count": 3,
   "metadata": {},
   "outputs": [
    {
     "name": "stderr",
     "output_type": "stream",
     "text": [
      "c:\\Users\\bfran\\Ironhack\\Week 7\\powerhouse-squad-project\\data_cleaning.py:13: SettingWithCopyWarning: \n",
      "A value is trying to be set on a copy of a slice from a DataFrame.\n",
      "Try using .loc[row_indexer,col_indexer] = value instead\n",
      "\n",
      "See the caveats in the documentation: https://pandas.pydata.org/pandas-docs/stable/user_guide/indexing.html#returning-a-view-versus-a-copy\n",
      "  X.loc[:, 'DateTime_cleaned'] = pd.to_datetime(X['DateTime'])\n",
      "c:\\Users\\bfran\\Ironhack\\Week 7\\powerhouse-squad-project\\data_cleaning.py:16: SettingWithCopyWarning: \n",
      "A value is trying to be set on a copy of a slice from a DataFrame.\n",
      "Try using .loc[row_indexer,col_indexer] = value instead\n",
      "\n",
      "See the caveats in the documentation: https://pandas.pydata.org/pandas-docs/stable/user_guide/indexing.html#returning-a-view-versus-a-copy\n",
      "  X.loc[:, 'DayOfWeek'] = X['DateTime_cleaned'].dt.day_name()\n",
      "c:\\Users\\bfran\\Ironhack\\Week 7\\powerhouse-squad-project\\data_cleaning.py:78: SettingWithCopyWarning: \n",
      "A value is trying to be set on a copy of a slice from a DataFrame.\n",
      "Try using .loc[row_indexer,col_indexer] = value instead\n",
      "\n",
      "See the caveats in the documentation: https://pandas.pydata.org/pandas-docs/stable/user_guide/indexing.html#returning-a-view-versus-a-copy\n",
      "  tetouan_df_cleaned['Temp'] = tetouan_df_cleaned['Temp'].apply(celsius_to_fahrenheit)\n",
      "c:\\Users\\bfran\\Ironhack\\Week 7\\powerhouse-squad-project\\data_cleaning.py:84: SettingWithCopyWarning: \n",
      "A value is trying to be set on a copy of a slice from a DataFrame.\n",
      "Try using .loc[row_indexer,col_indexer] = value instead\n",
      "\n",
      "See the caveats in the documentation: https://pandas.pydata.org/pandas-docs/stable/user_guide/indexing.html#returning-a-view-versus-a-copy\n",
      "  tetouan_df_cleaned[column] = tetouan_df_cleaned[column].astype(int)\n",
      "c:\\Users\\bfran\\Ironhack\\Week 7\\powerhouse-squad-project\\data_cleaning.py:84: SettingWithCopyWarning: \n",
      "A value is trying to be set on a copy of a slice from a DataFrame.\n",
      "Try using .loc[row_indexer,col_indexer] = value instead\n",
      "\n",
      "See the caveats in the documentation: https://pandas.pydata.org/pandas-docs/stable/user_guide/indexing.html#returning-a-view-versus-a-copy\n",
      "  tetouan_df_cleaned[column] = tetouan_df_cleaned[column].astype(int)\n",
      "c:\\Users\\bfran\\Ironhack\\Week 7\\powerhouse-squad-project\\data_cleaning.py:84: SettingWithCopyWarning: \n",
      "A value is trying to be set on a copy of a slice from a DataFrame.\n",
      "Try using .loc[row_indexer,col_indexer] = value instead\n",
      "\n",
      "See the caveats in the documentation: https://pandas.pydata.org/pandas-docs/stable/user_guide/indexing.html#returning-a-view-versus-a-copy\n",
      "  tetouan_df_cleaned[column] = tetouan_df_cleaned[column].astype(int)\n",
      "c:\\Users\\bfran\\Ironhack\\Week 7\\powerhouse-squad-project\\data_cleaning.py:84: SettingWithCopyWarning: \n",
      "A value is trying to be set on a copy of a slice from a DataFrame.\n",
      "Try using .loc[row_indexer,col_indexer] = value instead\n",
      "\n",
      "See the caveats in the documentation: https://pandas.pydata.org/pandas-docs/stable/user_guide/indexing.html#returning-a-view-versus-a-copy\n",
      "  tetouan_df_cleaned[column] = tetouan_df_cleaned[column].astype(int)\n",
      "c:\\Users\\bfran\\Ironhack\\Week 7\\powerhouse-squad-project\\data_cleaning.py:84: SettingWithCopyWarning: \n",
      "A value is trying to be set on a copy of a slice from a DataFrame.\n",
      "Try using .loc[row_indexer,col_indexer] = value instead\n",
      "\n",
      "See the caveats in the documentation: https://pandas.pydata.org/pandas-docs/stable/user_guide/indexing.html#returning-a-view-versus-a-copy\n",
      "  tetouan_df_cleaned[column] = tetouan_df_cleaned[column].astype(int)\n",
      "c:\\Users\\bfran\\Ironhack\\Week 7\\powerhouse-squad-project\\data_cleaning.py:84: SettingWithCopyWarning: \n",
      "A value is trying to be set on a copy of a slice from a DataFrame.\n",
      "Try using .loc[row_indexer,col_indexer] = value instead\n",
      "\n",
      "See the caveats in the documentation: https://pandas.pydata.org/pandas-docs/stable/user_guide/indexing.html#returning-a-view-versus-a-copy\n",
      "  tetouan_df_cleaned[column] = tetouan_df_cleaned[column].astype(int)\n",
      "c:\\Users\\bfran\\Ironhack\\Week 7\\powerhouse-squad-project\\data_cleaning.py:84: SettingWithCopyWarning: \n",
      "A value is trying to be set on a copy of a slice from a DataFrame.\n",
      "Try using .loc[row_indexer,col_indexer] = value instead\n",
      "\n",
      "See the caveats in the documentation: https://pandas.pydata.org/pandas-docs/stable/user_guide/indexing.html#returning-a-view-versus-a-copy\n",
      "  tetouan_df_cleaned[column] = tetouan_df_cleaned[column].astype(int)\n",
      "c:\\Users\\bfran\\Ironhack\\Week 7\\powerhouse-squad-project\\data_cleaning.py:84: SettingWithCopyWarning: \n",
      "A value is trying to be set on a copy of a slice from a DataFrame.\n",
      "Try using .loc[row_indexer,col_indexer] = value instead\n",
      "\n",
      "See the caveats in the documentation: https://pandas.pydata.org/pandas-docs/stable/user_guide/indexing.html#returning-a-view-versus-a-copy\n",
      "  tetouan_df_cleaned[column] = tetouan_df_cleaned[column].astype(int)\n",
      "c:\\Users\\bfran\\Ironhack\\Week 7\\powerhouse-squad-project\\data_cleaning.py:84: SettingWithCopyWarning: \n",
      "A value is trying to be set on a copy of a slice from a DataFrame.\n",
      "Try using .loc[row_indexer,col_indexer] = value instead\n",
      "\n",
      "See the caveats in the documentation: https://pandas.pydata.org/pandas-docs/stable/user_guide/indexing.html#returning-a-view-versus-a-copy\n",
      "  tetouan_df_cleaned[column] = tetouan_df_cleaned[column].astype(int)\n",
      "c:\\Users\\bfran\\Ironhack\\Week 7\\powerhouse-squad-project\\data_cleaning.py:84: SettingWithCopyWarning: \n",
      "A value is trying to be set on a copy of a slice from a DataFrame.\n",
      "Try using .loc[row_indexer,col_indexer] = value instead\n",
      "\n",
      "See the caveats in the documentation: https://pandas.pydata.org/pandas-docs/stable/user_guide/indexing.html#returning-a-view-versus-a-copy\n",
      "  tetouan_df_cleaned[column] = tetouan_df_cleaned[column].astype(int)\n",
      "c:\\Users\\bfran\\Ironhack\\Week 7\\powerhouse-squad-project\\data_cleaning.py:84: SettingWithCopyWarning: \n",
      "A value is trying to be set on a copy of a slice from a DataFrame.\n",
      "Try using .loc[row_indexer,col_indexer] = value instead\n",
      "\n",
      "See the caveats in the documentation: https://pandas.pydata.org/pandas-docs/stable/user_guide/indexing.html#returning-a-view-versus-a-copy\n",
      "  tetouan_df_cleaned[column] = tetouan_df_cleaned[column].astype(int)\n"
     ]
    }
   ],
   "source": [
    "import pandas as pd\n",
    "\n",
    "from data_cleaning import fetch_and_clean_data\n",
    "\n",
    "tetouan = fetch_and_clean_data()"
   ]
  },
  {
   "cell_type": "code",
   "execution_count": 4,
   "metadata": {},
   "outputs": [
    {
     "data": {
      "text/plain": [
       "Month\n",
       "1     4464\n",
       "3     4464\n",
       "5     4464\n",
       "7     4464\n",
       "8     4464\n",
       "10    4464\n",
       "4     4320\n",
       "6     4320\n",
       "9     4320\n",
       "11    4320\n",
       "12    4320\n",
       "2     4032\n",
       "Name: count, dtype: int64"
      ]
     },
     "execution_count": 4,
     "metadata": {},
     "output_type": "execute_result"
    }
   ],
   "source": [
    "tetouan['Month'].value_counts()"
   ]
  },
  {
   "cell_type": "code",
   "execution_count": 5,
   "metadata": {},
   "outputs": [
    {
     "name": "stdout",
     "output_type": "stream",
     "text": [
      "<class 'pandas.core.frame.DataFrame'>\n",
      "RangeIndex: 52416 entries, 0 to 52415\n",
      "Data columns (total 20 columns):\n",
      " #   Column                 Non-Null Count  Dtype  \n",
      "---  ------                 --------------  -----  \n",
      " 0   Month                  52416 non-null  int32  \n",
      " 1   Monday                 52416 non-null  int32  \n",
      " 2   Tuesday                52416 non-null  int32  \n",
      " 3   Wednesday              52416 non-null  int32  \n",
      " 4   Thursday               52416 non-null  int32  \n",
      " 5   Friday                 52416 non-null  int32  \n",
      " 6   Saturday               52416 non-null  int32  \n",
      " 7   Sunday                 52416 non-null  int32  \n",
      " 8   Morning                52416 non-null  int32  \n",
      " 9   Afternoon              52416 non-null  int32  \n",
      " 10  Evening                52416 non-null  int32  \n",
      " 11  Night                  52416 non-null  int32  \n",
      " 12  Temp                   52416 non-null  float64\n",
      " 13  Humidity               52416 non-null  float64\n",
      " 14  Wind_Speed             52416 non-null  float64\n",
      " 15  general diffuse flows  52416 non-null  float64\n",
      " 16  diffuse flows          52416 non-null  float64\n",
      " 17  Zone_1_PC              52416 non-null  float64\n",
      " 18  Zone_2_PC              52416 non-null  float64\n",
      " 19  Zone_3_PC              52416 non-null  float64\n",
      "dtypes: float64(8), int32(12)\n",
      "memory usage: 5.6 MB\n"
     ]
    }
   ],
   "source": [
    "tetouan.info()"
   ]
  },
  {
   "cell_type": "code",
   "execution_count": 6,
   "metadata": {},
   "outputs": [],
   "source": [
    "from sklearn.model_selection import train_test_split\n",
    "features = tetouan.drop(columns = [\"Zone_1_PC\",\"Zone_2_PC\",\"Zone_3_PC\"])\n",
    "target = tetouan[[\"Zone_1_PC\",\"Zone_2_PC\",\"Zone_3_PC\"]]\n",
    "X_train, X_test, y_train, y_test = train_test_split(features, target, test_size = 0.20, random_state=0)\n"
   ]
  },
  {
   "cell_type": "code",
   "execution_count": 7,
   "metadata": {},
   "outputs": [
    {
     "data": {
      "text/html": [
       "<style>#sk-container-id-1 {color: black;background-color: white;}#sk-container-id-1 pre{padding: 0;}#sk-container-id-1 div.sk-toggleable {background-color: white;}#sk-container-id-1 label.sk-toggleable__label {cursor: pointer;display: block;width: 100%;margin-bottom: 0;padding: 0.3em;box-sizing: border-box;text-align: center;}#sk-container-id-1 label.sk-toggleable__label-arrow:before {content: \"▸\";float: left;margin-right: 0.25em;color: #696969;}#sk-container-id-1 label.sk-toggleable__label-arrow:hover:before {color: black;}#sk-container-id-1 div.sk-estimator:hover label.sk-toggleable__label-arrow:before {color: black;}#sk-container-id-1 div.sk-toggleable__content {max-height: 0;max-width: 0;overflow: hidden;text-align: left;background-color: #f0f8ff;}#sk-container-id-1 div.sk-toggleable__content pre {margin: 0.2em;color: black;border-radius: 0.25em;background-color: #f0f8ff;}#sk-container-id-1 input.sk-toggleable__control:checked~div.sk-toggleable__content {max-height: 200px;max-width: 100%;overflow: auto;}#sk-container-id-1 input.sk-toggleable__control:checked~label.sk-toggleable__label-arrow:before {content: \"▾\";}#sk-container-id-1 div.sk-estimator input.sk-toggleable__control:checked~label.sk-toggleable__label {background-color: #d4ebff;}#sk-container-id-1 div.sk-label input.sk-toggleable__control:checked~label.sk-toggleable__label {background-color: #d4ebff;}#sk-container-id-1 input.sk-hidden--visually {border: 0;clip: rect(1px 1px 1px 1px);clip: rect(1px, 1px, 1px, 1px);height: 1px;margin: -1px;overflow: hidden;padding: 0;position: absolute;width: 1px;}#sk-container-id-1 div.sk-estimator {font-family: monospace;background-color: #f0f8ff;border: 1px dotted black;border-radius: 0.25em;box-sizing: border-box;margin-bottom: 0.5em;}#sk-container-id-1 div.sk-estimator:hover {background-color: #d4ebff;}#sk-container-id-1 div.sk-parallel-item::after {content: \"\";width: 100%;border-bottom: 1px solid gray;flex-grow: 1;}#sk-container-id-1 div.sk-label:hover label.sk-toggleable__label {background-color: #d4ebff;}#sk-container-id-1 div.sk-serial::before {content: \"\";position: absolute;border-left: 1px solid gray;box-sizing: border-box;top: 0;bottom: 0;left: 50%;z-index: 0;}#sk-container-id-1 div.sk-serial {display: flex;flex-direction: column;align-items: center;background-color: white;padding-right: 0.2em;padding-left: 0.2em;position: relative;}#sk-container-id-1 div.sk-item {position: relative;z-index: 1;}#sk-container-id-1 div.sk-parallel {display: flex;align-items: stretch;justify-content: center;background-color: white;position: relative;}#sk-container-id-1 div.sk-item::before, #sk-container-id-1 div.sk-parallel-item::before {content: \"\";position: absolute;border-left: 1px solid gray;box-sizing: border-box;top: 0;bottom: 0;left: 50%;z-index: -1;}#sk-container-id-1 div.sk-parallel-item {display: flex;flex-direction: column;z-index: 1;position: relative;background-color: white;}#sk-container-id-1 div.sk-parallel-item:first-child::after {align-self: flex-end;width: 50%;}#sk-container-id-1 div.sk-parallel-item:last-child::after {align-self: flex-start;width: 50%;}#sk-container-id-1 div.sk-parallel-item:only-child::after {width: 0;}#sk-container-id-1 div.sk-dashed-wrapped {border: 1px dashed gray;margin: 0 0.4em 0.5em 0.4em;box-sizing: border-box;padding-bottom: 0.4em;background-color: white;}#sk-container-id-1 div.sk-label label {font-family: monospace;font-weight: bold;display: inline-block;line-height: 1.2em;}#sk-container-id-1 div.sk-label-container {text-align: center;}#sk-container-id-1 div.sk-container {/* jupyter's `normalize.less` sets `[hidden] { display: none; }` but bootstrap.min.css set `[hidden] { display: none !important; }` so we also need the `!important` here to be able to override the default hidden behavior on the sphinx rendered scikit-learn.org. See: https://github.com/scikit-learn/scikit-learn/issues/21755 */display: inline-block !important;position: relative;}#sk-container-id-1 div.sk-text-repr-fallback {display: none;}</style><div id=\"sk-container-id-1\" class=\"sk-top-container\"><div class=\"sk-text-repr-fallback\"><pre>MinMaxScaler()</pre><b>In a Jupyter environment, please rerun this cell to show the HTML representation or trust the notebook. <br />On GitHub, the HTML representation is unable to render, please try loading this page with nbviewer.org.</b></div><div class=\"sk-container\" hidden><div class=\"sk-item\"><div class=\"sk-estimator sk-toggleable\"><input class=\"sk-toggleable__control sk-hidden--visually\" id=\"sk-estimator-id-1\" type=\"checkbox\" checked><label for=\"sk-estimator-id-1\" class=\"sk-toggleable__label sk-toggleable__label-arrow\">MinMaxScaler</label><div class=\"sk-toggleable__content\"><pre>MinMaxScaler()</pre></div></div></div></div></div>"
      ],
      "text/plain": [
       "MinMaxScaler()"
      ]
     },
     "execution_count": 7,
     "metadata": {},
     "output_type": "execute_result"
    }
   ],
   "source": [
    "from sklearn.preprocessing import MinMaxScaler\n",
    "scaler = MinMaxScaler()\n",
    "scaler.fit(X_train)"
   ]
  },
  {
   "cell_type": "code",
   "execution_count": 8,
   "metadata": {},
   "outputs": [
    {
     "data": {
      "text/html": [
       "<div>\n",
       "<style scoped>\n",
       "    .dataframe tbody tr th:only-of-type {\n",
       "        vertical-align: middle;\n",
       "    }\n",
       "\n",
       "    .dataframe tbody tr th {\n",
       "        vertical-align: top;\n",
       "    }\n",
       "\n",
       "    .dataframe thead th {\n",
       "        text-align: right;\n",
       "    }\n",
       "</style>\n",
       "<table border=\"1\" class=\"dataframe\">\n",
       "  <thead>\n",
       "    <tr style=\"text-align: right;\">\n",
       "      <th></th>\n",
       "      <th>Month</th>\n",
       "      <th>Monday</th>\n",
       "      <th>Tuesday</th>\n",
       "      <th>Wednesday</th>\n",
       "      <th>Thursday</th>\n",
       "      <th>Friday</th>\n",
       "      <th>Saturday</th>\n",
       "      <th>Sunday</th>\n",
       "      <th>Morning</th>\n",
       "      <th>Afternoon</th>\n",
       "      <th>Evening</th>\n",
       "      <th>Night</th>\n",
       "      <th>Temp</th>\n",
       "      <th>Humidity</th>\n",
       "      <th>Wind_Speed</th>\n",
       "      <th>general diffuse flows</th>\n",
       "      <th>diffuse flows</th>\n",
       "    </tr>\n",
       "  </thead>\n",
       "  <tbody>\n",
       "    <tr>\n",
       "      <th>0</th>\n",
       "      <td>0.909091</td>\n",
       "      <td>0.0</td>\n",
       "      <td>0.0</td>\n",
       "      <td>0.0</td>\n",
       "      <td>0.0</td>\n",
       "      <td>0.0</td>\n",
       "      <td>0.0</td>\n",
       "      <td>1.0</td>\n",
       "      <td>0.0</td>\n",
       "      <td>0.0</td>\n",
       "      <td>0.0</td>\n",
       "      <td>1.0</td>\n",
       "      <td>0.322961</td>\n",
       "      <td>0.901749</td>\n",
       "      <td>0.003575</td>\n",
       "      <td>0.000031</td>\n",
       "      <td>0.000088</td>\n",
       "    </tr>\n",
       "    <tr>\n",
       "      <th>1</th>\n",
       "      <td>0.363636</td>\n",
       "      <td>0.0</td>\n",
       "      <td>0.0</td>\n",
       "      <td>0.0</td>\n",
       "      <td>0.0</td>\n",
       "      <td>0.0</td>\n",
       "      <td>0.0</td>\n",
       "      <td>1.0</td>\n",
       "      <td>0.0</td>\n",
       "      <td>1.0</td>\n",
       "      <td>0.0</td>\n",
       "      <td>0.0</td>\n",
       "      <td>0.583549</td>\n",
       "      <td>0.382219</td>\n",
       "      <td>0.004974</td>\n",
       "      <td>0.773860</td>\n",
       "      <td>0.069434</td>\n",
       "    </tr>\n",
       "    <tr>\n",
       "      <th>2</th>\n",
       "      <td>0.272727</td>\n",
       "      <td>0.0</td>\n",
       "      <td>0.0</td>\n",
       "      <td>0.0</td>\n",
       "      <td>0.0</td>\n",
       "      <td>1.0</td>\n",
       "      <td>0.0</td>\n",
       "      <td>0.0</td>\n",
       "      <td>0.0</td>\n",
       "      <td>0.0</td>\n",
       "      <td>0.0</td>\n",
       "      <td>1.0</td>\n",
       "      <td>0.340641</td>\n",
       "      <td>0.947280</td>\n",
       "      <td>0.003575</td>\n",
       "      <td>0.000047</td>\n",
       "      <td>0.000135</td>\n",
       "    </tr>\n",
       "    <tr>\n",
       "      <th>3</th>\n",
       "      <td>0.363636</td>\n",
       "      <td>0.0</td>\n",
       "      <td>0.0</td>\n",
       "      <td>0.0</td>\n",
       "      <td>0.0</td>\n",
       "      <td>1.0</td>\n",
       "      <td>0.0</td>\n",
       "      <td>0.0</td>\n",
       "      <td>0.0</td>\n",
       "      <td>1.0</td>\n",
       "      <td>0.0</td>\n",
       "      <td>0.0</td>\n",
       "      <td>0.483448</td>\n",
       "      <td>0.736401</td>\n",
       "      <td>0.003109</td>\n",
       "      <td>0.653481</td>\n",
       "      <td>0.304265</td>\n",
       "    </tr>\n",
       "    <tr>\n",
       "      <th>4</th>\n",
       "      <td>0.818182</td>\n",
       "      <td>0.0</td>\n",
       "      <td>0.0</td>\n",
       "      <td>0.0</td>\n",
       "      <td>0.0</td>\n",
       "      <td>0.0</td>\n",
       "      <td>0.0</td>\n",
       "      <td>1.0</td>\n",
       "      <td>1.0</td>\n",
       "      <td>0.0</td>\n",
       "      <td>0.0</td>\n",
       "      <td>0.0</td>\n",
       "      <td>0.404836</td>\n",
       "      <td>0.895758</td>\n",
       "      <td>0.756257</td>\n",
       "      <td>0.000046</td>\n",
       "      <td>0.000091</td>\n",
       "    </tr>\n",
       "  </tbody>\n",
       "</table>\n",
       "</div>"
      ],
      "text/plain": [
       "      Month  Monday  Tuesday  Wednesday  Thursday  Friday  Saturday  Sunday  \\\n",
       "0  0.909091     0.0      0.0        0.0       0.0     0.0       0.0     1.0   \n",
       "1  0.363636     0.0      0.0        0.0       0.0     0.0       0.0     1.0   \n",
       "2  0.272727     0.0      0.0        0.0       0.0     1.0       0.0     0.0   \n",
       "3  0.363636     0.0      0.0        0.0       0.0     1.0       0.0     0.0   \n",
       "4  0.818182     0.0      0.0        0.0       0.0     0.0       0.0     1.0   \n",
       "\n",
       "   Morning  Afternoon  Evening  Night      Temp  Humidity  Wind_Speed  \\\n",
       "0      0.0        0.0      0.0    1.0  0.322961  0.901749    0.003575   \n",
       "1      0.0        1.0      0.0    0.0  0.583549  0.382219    0.004974   \n",
       "2      0.0        0.0      0.0    1.0  0.340641  0.947280    0.003575   \n",
       "3      0.0        1.0      0.0    0.0  0.483448  0.736401    0.003109   \n",
       "4      1.0        0.0      0.0    0.0  0.404836  0.895758    0.756257   \n",
       "\n",
       "   general diffuse flows  diffuse flows  \n",
       "0               0.000031       0.000088  \n",
       "1               0.773860       0.069434  \n",
       "2               0.000047       0.000135  \n",
       "3               0.653481       0.304265  \n",
       "4               0.000046       0.000091  "
      ]
     },
     "execution_count": 8,
     "metadata": {},
     "output_type": "execute_result"
    }
   ],
   "source": [
    "X_train_scaled = scaler.transform(X_train)\n",
    "\n",
    "X_test_scaled = scaler.transform(X_test)\n",
    "\n",
    "X_train_scaled = pd.DataFrame(X_train_scaled, columns = X_train.columns)\n",
    "X_train_scaled.head()"
   ]
  },
  {
   "cell_type": "code",
   "execution_count": 9,
   "metadata": {},
   "outputs": [
    {
     "data": {
      "text/html": [
       "<div>\n",
       "<style scoped>\n",
       "    .dataframe tbody tr th:only-of-type {\n",
       "        vertical-align: middle;\n",
       "    }\n",
       "\n",
       "    .dataframe tbody tr th {\n",
       "        vertical-align: top;\n",
       "    }\n",
       "\n",
       "    .dataframe thead th {\n",
       "        text-align: right;\n",
       "    }\n",
       "</style>\n",
       "<table border=\"1\" class=\"dataframe\">\n",
       "  <thead>\n",
       "    <tr style=\"text-align: right;\">\n",
       "      <th></th>\n",
       "      <th>Month</th>\n",
       "      <th>Monday</th>\n",
       "      <th>Tuesday</th>\n",
       "      <th>Wednesday</th>\n",
       "      <th>Thursday</th>\n",
       "      <th>Friday</th>\n",
       "      <th>Saturday</th>\n",
       "      <th>Sunday</th>\n",
       "      <th>Morning</th>\n",
       "      <th>Afternoon</th>\n",
       "      <th>Evening</th>\n",
       "      <th>Night</th>\n",
       "      <th>Temp</th>\n",
       "      <th>Humidity</th>\n",
       "      <th>Wind_Speed</th>\n",
       "      <th>general diffuse flows</th>\n",
       "      <th>diffuse flows</th>\n",
       "    </tr>\n",
       "  </thead>\n",
       "  <tbody>\n",
       "    <tr>\n",
       "      <th>0</th>\n",
       "      <td>0.454545</td>\n",
       "      <td>0.0</td>\n",
       "      <td>1.0</td>\n",
       "      <td>0.0</td>\n",
       "      <td>0.0</td>\n",
       "      <td>0.0</td>\n",
       "      <td>0.0</td>\n",
       "      <td>0.0</td>\n",
       "      <td>0.0</td>\n",
       "      <td>0.0</td>\n",
       "      <td>0.0</td>\n",
       "      <td>1.0</td>\n",
       "      <td>0.468215</td>\n",
       "      <td>0.938893</td>\n",
       "      <td>0.756412</td>\n",
       "      <td>0.000044</td>\n",
       "      <td>0.000139</td>\n",
       "    </tr>\n",
       "    <tr>\n",
       "      <th>1</th>\n",
       "      <td>0.818182</td>\n",
       "      <td>0.0</td>\n",
       "      <td>0.0</td>\n",
       "      <td>0.0</td>\n",
       "      <td>0.0</td>\n",
       "      <td>1.0</td>\n",
       "      <td>0.0</td>\n",
       "      <td>0.0</td>\n",
       "      <td>0.0</td>\n",
       "      <td>0.0</td>\n",
       "      <td>0.0</td>\n",
       "      <td>1.0</td>\n",
       "      <td>0.471751</td>\n",
       "      <td>0.690391</td>\n",
       "      <td>0.757034</td>\n",
       "      <td>0.000063</td>\n",
       "      <td>0.000111</td>\n",
       "    </tr>\n",
       "    <tr>\n",
       "      <th>2</th>\n",
       "      <td>0.727273</td>\n",
       "      <td>0.0</td>\n",
       "      <td>0.0</td>\n",
       "      <td>0.0</td>\n",
       "      <td>0.0</td>\n",
       "      <td>1.0</td>\n",
       "      <td>0.0</td>\n",
       "      <td>0.0</td>\n",
       "      <td>0.0</td>\n",
       "      <td>1.0</td>\n",
       "      <td>0.0</td>\n",
       "      <td>0.0</td>\n",
       "      <td>0.646384</td>\n",
       "      <td>0.424635</td>\n",
       "      <td>0.757345</td>\n",
       "      <td>0.674118</td>\n",
       "      <td>0.070983</td>\n",
       "    </tr>\n",
       "    <tr>\n",
       "      <th>3</th>\n",
       "      <td>0.545455</td>\n",
       "      <td>0.0</td>\n",
       "      <td>0.0</td>\n",
       "      <td>0.0</td>\n",
       "      <td>0.0</td>\n",
       "      <td>0.0</td>\n",
       "      <td>0.0</td>\n",
       "      <td>1.0</td>\n",
       "      <td>1.0</td>\n",
       "      <td>0.0</td>\n",
       "      <td>0.0</td>\n",
       "      <td>0.0</td>\n",
       "      <td>0.591709</td>\n",
       "      <td>0.604960</td>\n",
       "      <td>0.755324</td>\n",
       "      <td>0.514530</td>\n",
       "      <td>0.106507</td>\n",
       "    </tr>\n",
       "    <tr>\n",
       "      <th>4</th>\n",
       "      <td>0.000000</td>\n",
       "      <td>0.0</td>\n",
       "      <td>1.0</td>\n",
       "      <td>0.0</td>\n",
       "      <td>0.0</td>\n",
       "      <td>0.0</td>\n",
       "      <td>0.0</td>\n",
       "      <td>0.0</td>\n",
       "      <td>0.0</td>\n",
       "      <td>0.0</td>\n",
       "      <td>0.0</td>\n",
       "      <td>1.0</td>\n",
       "      <td>0.179610</td>\n",
       "      <td>0.712437</td>\n",
       "      <td>0.005130</td>\n",
       "      <td>0.000040</td>\n",
       "      <td>0.000111</td>\n",
       "    </tr>\n",
       "  </tbody>\n",
       "</table>\n",
       "</div>"
      ],
      "text/plain": [
       "      Month  Monday  Tuesday  Wednesday  Thursday  Friday  Saturday  Sunday  \\\n",
       "0  0.454545     0.0      1.0        0.0       0.0     0.0       0.0     0.0   \n",
       "1  0.818182     0.0      0.0        0.0       0.0     1.0       0.0     0.0   \n",
       "2  0.727273     0.0      0.0        0.0       0.0     1.0       0.0     0.0   \n",
       "3  0.545455     0.0      0.0        0.0       0.0     0.0       0.0     1.0   \n",
       "4  0.000000     0.0      1.0        0.0       0.0     0.0       0.0     0.0   \n",
       "\n",
       "   Morning  Afternoon  Evening  Night      Temp  Humidity  Wind_Speed  \\\n",
       "0      0.0        0.0      0.0    1.0  0.468215  0.938893    0.756412   \n",
       "1      0.0        0.0      0.0    1.0  0.471751  0.690391    0.757034   \n",
       "2      0.0        1.0      0.0    0.0  0.646384  0.424635    0.757345   \n",
       "3      1.0        0.0      0.0    0.0  0.591709  0.604960    0.755324   \n",
       "4      0.0        0.0      0.0    1.0  0.179610  0.712437    0.005130   \n",
       "\n",
       "   general diffuse flows  diffuse flows  \n",
       "0               0.000044       0.000139  \n",
       "1               0.000063       0.000111  \n",
       "2               0.674118       0.070983  \n",
       "3               0.514530       0.106507  \n",
       "4               0.000040       0.000111  "
      ]
     },
     "execution_count": 9,
     "metadata": {},
     "output_type": "execute_result"
    }
   ],
   "source": [
    "X_test_scaled = pd.DataFrame(X_test_scaled, columns = X_test.columns)\n",
    "X_test_scaled.head()"
   ]
  },
  {
   "cell_type": "code",
   "execution_count": 11,
   "metadata": {},
   "outputs": [
    {
     "data": {
      "text/plain": [
       "0.702652544343792"
      ]
     },
     "execution_count": 11,
     "metadata": {},
     "output_type": "execute_result"
    }
   ],
   "source": [
    "# K Nearest Neighbors Test for unscaled data\n",
    "\n",
    "\n",
    "# Import K Nearest Neighbors Regressor\n",
    "from sklearn.neighbors import KNeighborsRegressor\n",
    "\n",
    "# defines our knnregressor, using 10 neighbors\n",
    "knnregress = KNeighborsRegressor(n_neighbors=10)\n",
    "\n",
    "# Fits KNN to scaled data\n",
    "knnregress.fit(X_train, y_train)\n",
    "\n",
    "# Tests Model's performance\n",
    "knnregress.score(X_test, y_test)"
   ]
  },
  {
   "cell_type": "code",
   "execution_count": 10,
   "metadata": {},
   "outputs": [
    {
     "data": {
      "text/plain": [
       "0.9113606511292204"
      ]
     },
     "execution_count": 10,
     "metadata": {},
     "output_type": "execute_result"
    }
   ],
   "source": [
    "# K Nearest Neighbors Test for scale data\n",
    "\n",
    "\n",
    "# Import K Nearest Neighbors Regressor\n",
    "from sklearn.neighbors import KNeighborsRegressor\n",
    "\n",
    "# defines our knnregressor, using 10 neighbors\n",
    "knnregress = KNeighborsRegressor(n_neighbors=10)\n",
    "\n",
    "# Fits KNN to scaled data\n",
    "knnregress.fit(X_train_scaled, y_train)\n",
    "\n",
    "# Tests Model's performance\n",
    "knnregress.score(X_test_scaled, y_test)\n",
    "\n",
    "# The model used on scaled data is much stronger. "
   ]
  },
  {
   "cell_type": "code",
   "execution_count": 13,
   "metadata": {},
   "outputs": [
    {
     "name": "stdout",
     "output_type": "stream",
     "text": [
      "MAE 3539.94848909618\n",
      "RMSE 4421.736415705596\n",
      "R2 score 0.5097780915508853\n"
     ]
    }
   ],
   "source": [
    "# linear regression\n",
    "# import packages and measure\n",
    "from sklearn.linear_model import LinearRegression\n",
    "from sklearn.metrics import r2_score, mean_absolute_error, mean_squared_error\n",
    "\n",
    "# define linear regression model\n",
    "lin_reg = LinearRegression()\n",
    "\n",
    "# fits data to a linear regression\n",
    "lin_reg.fit(X_train_scaled, y_train)\n",
    "\n",
    "pred = lin_reg.predict(X_test_scaled)\n",
    "\n",
    "print(\"MAE\", mean_absolute_error(pred, y_test))\n",
    "print(\"RMSE\", mean_squared_error(pred, y_test, squared=False))\n",
    "print(\"R2 score\", lin_reg.score(X_test_scaled, y_test))\n",
    "\n",
    "# This R2 of 0.50 is way lower than our K Nearest Neighbors model strength, so this is not the way to go. "
   ]
  },
  {
   "cell_type": "code",
   "execution_count": 14,
   "metadata": {},
   "outputs": [
    {
     "name": "stdout",
     "output_type": "stream",
     "text": [
      "MAE 2050.0224612598645\n",
      "RMSE 2965.590906985771\n",
      "R2 score 0.7754143025616385\n"
     ]
    }
   ],
   "source": [
    "# Decision Tree\n",
    "# Import package\n",
    "from sklearn.tree import DecisionTreeRegressor\n",
    "\n",
    "tree = DecisionTreeRegressor(max_depth=10)\n",
    "\n",
    "# fit data to tree model\n",
    "tree.fit(X_train_scaled, y_train)\n",
    "\n",
    "pred = tree.predict(X_test_scaled)\n",
    "\n",
    "print(\"MAE\", mean_absolute_error(pred, y_test))\n",
    "print(\"RMSE\", mean_squared_error(pred, y_test, squared=False))\n",
    "print(\"R2 score\", tree.score(X_test_scaled, y_test))\n",
    "\n",
    "# 0.77 is better than the linear regression, but still not nearly as good as K Nearest Neighbors"
   ]
  },
  {
   "cell_type": "code",
   "execution_count": 16,
   "metadata": {},
   "outputs": [],
   "source": [
    "# Ensemble Methods\n",
    "# Import Packages\n",
    "from sklearn.ensemble import BaggingRegressor, RandomForestRegressor,AdaBoostRegressor, GradientBoostingRegressor\n",
    "\n",
    "# Import Measures\n",
    "from sklearn.metrics import r2_score, mean_absolute_error, mean_squared_error"
   ]
  },
  {
   "cell_type": "code",
   "execution_count": 17,
   "metadata": {},
   "outputs": [
    {
     "name": "stdout",
     "output_type": "stream",
     "text": [
      "MAE 2143.2852671552105\n",
      "RMSE 2985.623182895992\n",
      "R2 score 0.7725803442485933\n"
     ]
    }
   ],
   "source": [
    "# Bagging and Pasting\n",
    "\n",
    "# Define Model\n",
    "bagging_reg = BaggingRegressor(DecisionTreeRegressor(max_depth=20),\n",
    "                               n_estimators=100,\n",
    "                               max_samples = 1000)\n",
    "\n",
    "# Fit data to model\n",
    "bagging_reg.fit(X_train_scaled, y_train)\n",
    "\n",
    "# Set predictor\n",
    "pred = bagging_reg.predict(X_test_scaled)\n",
    "\n",
    "# Evaluate Results\n",
    "print(\"MAE\", mean_absolute_error(pred, y_test))\n",
    "print(\"RMSE\", mean_squared_error(pred, y_test, squared=False))\n",
    "print(\"R2 score\", bagging_reg.score(X_test_scaled, y_test))\n",
    "\n",
    "# Slightly less accurate than Decision Tree"
   ]
  },
  {
   "cell_type": "code",
   "execution_count": 18,
   "metadata": {},
   "outputs": [
    {
     "name": "stdout",
     "output_type": "stream",
     "text": [
      "MAE 1067.2477457444675\n",
      "RMSE 1770.8268647677105\n",
      "R2 score 0.9198516869108654\n"
     ]
    }
   ],
   "source": [
    "# Random Patches\n",
    "# Initialize Random Forest\n",
    "forest = RandomForestRegressor(n_estimators=100,\n",
    "                             max_depth=20)\n",
    "\n",
    "# Train model\n",
    "forest.fit(X_train_scaled, y_train)\n",
    "\n",
    "# Set predictor\n",
    "pred = forest.predict(X_test_scaled)\n",
    "\n",
    "# Evaluate Model\n",
    "print(\"MAE\", mean_absolute_error(pred, y_test))\n",
    "print(\"RMSE\", mean_squared_error(pred, y_test, squared=False))\n",
    "print(\"R2 score\", forest.score(X_test_scaled, y_test))\n",
    "\n",
    "# Best Model yet - 0.9198 "
   ]
  },
  {
   "cell_type": "code",
   "execution_count": 21,
   "metadata": {},
   "outputs": [
    {
     "name": "stderr",
     "output_type": "stream",
     "text": [
      "c:\\Users\\bfran\\anaconda3\\Lib\\site-packages\\sklearn\\utils\\validation.py:1143: DataConversionWarning: A column-vector y was passed when a 1d array was expected. Please change the shape of y to (n_samples, ), for example using ravel().\n",
      "  y = column_or_1d(y, warn=True)\n"
     ]
    },
    {
     "name": "stdout",
     "output_type": "stream",
     "text": [
      "AdaBoost Model 1 MAE: 1097.2474727325994\n",
      "AdaBoost Model 1 RMSE: 1893.1015616162888\n",
      "AdaBoost Model 1 R2 score: 0.9300068292867248\n"
     ]
    },
    {
     "name": "stderr",
     "output_type": "stream",
     "text": [
      "c:\\Users\\bfran\\anaconda3\\Lib\\site-packages\\sklearn\\utils\\validation.py:1143: DataConversionWarning: A column-vector y was passed when a 1d array was expected. Please change the shape of y to (n_samples, ), for example using ravel().\n",
      "  y = column_or_1d(y, warn=True)\n"
     ]
    },
    {
     "name": "stdout",
     "output_type": "stream",
     "text": [
      "AdaBoost Model 2 MAE: 701.7270442602472\n",
      "AdaBoost Model 2 RMSE: 1243.5982937235415\n",
      "AdaBoost Model 2 R2 score: 0.9426631748497314\n"
     ]
    },
    {
     "name": "stderr",
     "output_type": "stream",
     "text": [
      "c:\\Users\\bfran\\anaconda3\\Lib\\site-packages\\sklearn\\utils\\validation.py:1143: DataConversionWarning: A column-vector y was passed when a 1d array was expected. Please change the shape of y to (n_samples, ), for example using ravel().\n",
      "  y = column_or_1d(y, warn=True)\n"
     ]
    },
    {
     "name": "stdout",
     "output_type": "stream",
     "text": [
      "AdaBoost Model 3 MAE: 697.935171413906\n",
      "AdaBoost Model 3 RMSE: 1256.3769520830983\n",
      "AdaBoost Model 3 R2 score: 0.9648247054017346\n"
     ]
    }
   ],
   "source": [
    "# AdaBoost\n",
    "# Initialize AdaBoost model\n",
    "ada_reg = AdaBoostRegressor(DecisionTreeRegressor(max_depth=20),\n",
    "                            n_estimators=100)\n",
    "\n",
    "# AdaBoost Model needs to have just one regressor variable to look at, not 3\n",
    "# Create subsets\n",
    "y_train_1 = y_train.drop(columns=['Zone_2_PC','Zone_3_PC'])\n",
    "y_train_2 = y_train.drop(columns=['Zone_1_PC','Zone_3_PC'])\n",
    "y_train_3 = y_train.drop(columns=['Zone_1_PC','Zone_2_PC'])\n",
    "y_test_1 = y_test.drop(columns=['Zone_2_PC','Zone_3_PC'])\n",
    "y_test_2 = y_test.drop(columns=['Zone_1_PC','Zone_3_PC'])\n",
    "y_test_3 = y_test.drop(columns=['Zone_1_PC','Zone_2_PC'])\n",
    "\n",
    "# Train Model 1\n",
    "ada_reg.fit(X_train_scaled, y_train_1)\n",
    "\n",
    "# Set predictor\n",
    "pred = ada_reg.predict(X_test_scaled)\n",
    "\n",
    "# Evaluate model 1\n",
    "print(\"AdaBoost Model 1 MAE:\", mean_absolute_error(pred, y_test_1))\n",
    "print(\"AdaBoost Model 1 RMSE:\", mean_squared_error(pred, y_test_1, squared=False))\n",
    "print(\"AdaBoost Model 1 R2 score:\", ada_reg.score(X_test_scaled, y_test_1))\n",
    "\n",
    "# Train Model 2\n",
    "ada_reg.fit(X_train_scaled, y_train_2)\n",
    "\n",
    "# Set predictor\n",
    "pred = ada_reg.predict(X_test_scaled)\n",
    "\n",
    "# Evaluate model 2\n",
    "print(\"AdaBoost Model 2 MAE:\", mean_absolute_error(pred, y_test_2))\n",
    "print(\"AdaBoost Model 2 RMSE:\", mean_squared_error(pred, y_test_2, squared=False))\n",
    "print(\"AdaBoost Model 2 R2 score:\", ada_reg.score(X_test_scaled, y_test_2))\n",
    "\n",
    "# Train Model 3\n",
    "ada_reg.fit(X_train_scaled, y_train_3)\n",
    "\n",
    "# Set predictor\n",
    "pred = ada_reg.predict(X_test_scaled)\n",
    "\n",
    "# Evaluate model 3\n",
    "print(\"AdaBoost Model 3 MAE:\", mean_absolute_error(pred, y_test_3))\n",
    "print(\"AdaBoost Model 3 RMSE:\", mean_squared_error(pred, y_test_3, squared=False))\n",
    "print(\"AdaBoost Model 3 R2 score:\", ada_reg.score(X_test_scaled, y_test_3))\n",
    "\n",
    "# This took 1m10s to run.\n",
    "# Model 1 R2 is 0.9300, best yet. \n",
    "# Model 2 R2 is 0.9427, best again.\n",
    "# Model 3 R2 is 0.9648, highest yet. "
   ]
  },
  {
   "cell_type": "code",
   "execution_count": 28,
   "metadata": {},
   "outputs": [
    {
     "name": "stdout",
     "output_type": "stream",
     "text": [
      "MAE [1388.57033758  920.76778532  900.68079515]\n",
      "RMSE [2512.94412151 1676.6143022  1692.59847341]\n",
      "R2 score 0.902869825700234\n"
     ]
    }
   ],
   "source": [
    "# Gradient Boosting\n",
    "# ChatGPT says this could take from 1 to 3 hours to run. Fun!\n",
    "\n",
    "# Import package\n",
    "from sklearn.multioutput import MultiOutputRegressor\n",
    "\n",
    "# Initialize model\n",
    "gb_reg = GradientBoostingRegressor(max_depth=20,\n",
    "                                   n_estimators=100)\n",
    "\n",
    "# Set up a multi-output regressor since our target has multiple columns\n",
    "mor = MultiOutputRegressor(gb_reg)\n",
    "\n",
    "# Train Model\n",
    "mor.fit(X_train_scaled, y_train)\n",
    "\n",
    "# Set Predictor\n",
    "pred = mor.predict(X_test_scaled)\n",
    "\n",
    "# Evaluate Model\n",
    "print(\"MAE\", mean_absolute_error(pred, y_test, multioutput='raw_values'))\n",
    "print(\"RMSE\", mean_squared_error(pred, y_test, multioutput='raw_values', squared=False))\n",
    "print(\"R2 score\", mor.score(X_test_scaled, y_test))\n",
    "\n",
    "# I have no idea why it took Rosemary 30 minutes to run this, cus it ran for me in 2 minutes. \n",
    "# R2 of 0.9029 puts this in like 3rd place overall. "
   ]
  },
  {
   "cell_type": "code",
   "execution_count": null,
   "metadata": {},
   "outputs": [],
   "source": []
  }
 ],
 "metadata": {
  "kernelspec": {
   "display_name": "base",
   "language": "python",
   "name": "python3"
  },
  "language_info": {
   "codemirror_mode": {
    "name": "ipython",
    "version": 3
   },
   "file_extension": ".py",
   "mimetype": "text/x-python",
   "name": "python",
   "nbconvert_exporter": "python",
   "pygments_lexer": "ipython3",
   "version": "3.11.7"
  }
 },
 "nbformat": 4,
 "nbformat_minor": 2
}
